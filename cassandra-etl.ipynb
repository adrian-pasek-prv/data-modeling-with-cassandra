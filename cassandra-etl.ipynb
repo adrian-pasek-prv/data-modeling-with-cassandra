{
 "cells": [
  {
   "cell_type": "code",
   "execution_count": 1,
   "id": "6630f9f7",
   "metadata": {},
   "outputs": [],
   "source": [
    "import pandas as pd\n",
    "import numpy as np\n",
    "import glob\n",
    "import os"
   ]
  },
  {
   "cell_type": "markdown",
   "id": "90ca86e3",
   "metadata": {},
   "source": [
    "### Retrieve filepaths of csv files in '`/event_data`"
   ]
  },
  {
   "cell_type": "code",
   "execution_count": 2,
   "id": "988e075c",
   "metadata": {},
   "outputs": [
    {
     "name": "stdout",
     "output_type": "stream",
     "text": [
      "Path of '/event_data': '/home/ubuntu/github-repos/data-modeling-with-cassandra/event_data'\n"
     ]
    }
   ],
   "source": [
    "# Determine the path of event data\n",
    "directory = os.path.join(os.getcwd(), 'event_data')\n",
    "print(f\"Path of '/event_data': '{directory}'\")\n",
    "\n",
    "# Return a list of all CSV files in directory with glob\n",
    "files = glob.glob(os.path.join(directory,'*.csv'))"
   ]
  },
  {
   "cell_type": "markdown",
   "id": "4ec2a2bb",
   "metadata": {},
   "source": [
    "### Concatenate DataFrames made from csv files and save it as `event_data_new.csv`"
   ]
  },
  {
   "cell_type": "code",
   "execution_count": 3,
   "id": "8f00ae89",
   "metadata": {
    "scrolled": false
   },
   "outputs": [
    {
     "name": "stdout",
     "output_type": "stream",
     "text": [
      "Processed 6820 rows\n"
     ]
    }
   ],
   "source": [
    "# Subset of columns to use\n",
    "cols = ['artist','firstName','gender','itemInSession','lastName','length',\\\n",
    "                'level','location','sessionId','song','userId']\n",
    "\n",
    "# Cast column names to lower to be renamed after reading\n",
    "cols_lower = [x.lower() for x in cols]\n",
    "\n",
    "# Iterate over every file and map a pd.read_csv function with arguments\n",
    "# to files iterable to create a concatenated DataFrame\n",
    "df = pd.concat(map(lambda csv: pd.read_csv(csv, \n",
    "                                           skipinitialspace=True,\n",
    "                                           quoting=1,\n",
    "                                           usecols=cols,\n",
    "                                           dtype={\n",
    "                                               'userId': 'Int64',\n",
    "                                               'sessionId': 'Int64',\n",
    "                                               'itemInSession': 'Int64'\n",
    "                                           }\n",
    "                                           ), files), ignore_index=True)\n",
    "# Drop null records as it's reflected in template project\n",
    "df = df.dropna(subset='artist')\n",
    "# Rename column names\n",
    "df.columns = cols_lower\n",
    "# Print out number of rows\n",
    "print(f'Processed {len(df)} rows')"
   ]
  },
  {
   "cell_type": "code",
   "execution_count": 4,
   "id": "fe49dd90",
   "metadata": {},
   "outputs": [],
   "source": [
    "# Save the output as event_data_new.csv\n",
    "df.to_csv('event_datafile_new.csv', index=False, encoding='utf8', quoting=1)"
   ]
  },
  {
   "cell_type": "markdown",
   "id": "15a1fe5f",
   "metadata": {},
   "source": [
    "### Create a connection to Cassandra instance"
   ]
  },
  {
   "cell_type": "code",
   "execution_count": 5,
   "id": "d7ef5641",
   "metadata": {},
   "outputs": [],
   "source": [
    "# Establish a connection to local cluster\n",
    "from cassandra.cluster import Cluster\n",
    "cluster = Cluster(['127.0.0.1']) \n",
    "session = cluster.connect()"
   ]
  },
  {
   "cell_type": "code",
   "execution_count": 6,
   "id": "a95fb3d4",
   "metadata": {},
   "outputs": [],
   "source": [
    "# Create a keyspace and set current session to it\n",
    "session.execute(\"\"\"\n",
    "    CREATE KEYSPACE IF NOT EXISTS sparkify \n",
    "    WITH REPLICATION = \n",
    "    { 'class' : 'SimpleStrategy', 'replication_factor' : 1 }\"\"\"\n",
    ")\n",
    " # Connect to keypace\n",
    "session.set_keyspace('sparkify')"
   ]
  },
  {
   "cell_type": "markdown",
   "id": "f91ad977",
   "metadata": {},
   "source": [
    "### Create tables and insert rows based on the queries we want to run:\n",
    "\n",
    "- #### Query 1:  Give me the artist, song title and song's length in the music app history that was heard during sessionId = 338, and itemInSession = 4"
   ]
  },
  {
   "cell_type": "code",
   "execution_count": 7,
   "id": "e2c964f8",
   "metadata": {},
   "outputs": [],
   "source": [
    "query = '''\n",
    "    SELECT \n",
    "        artist, \n",
    "        song, \n",
    "        length \n",
    "    FROM sessions\n",
    "    WHERE sessionid = 338\n",
    "    AND iteminsession = 4\n",
    "'''\n",
    "# Create table sessions with primary keys for sessionid and iteminsession since we will be querying those\n",
    "create_stmt = '''\n",
    "    CREATE TABLE IF NOT EXISTS sessions\n",
    "    (sessionid int, iteminsession int, artist text, song text, length decimal,\n",
    "        PRIMARY KEY (sessionid, iteminsession));\n",
    "'''\n",
    "session.execute(create_stmt)\n",
    "\n",
    "# Insert statement \n",
    "insert_stmt = '''\n",
    "    INSERT INTO sessions (sessionid, iteminsession, artist, song, length)\n",
    "    VALUES (%s, %s, %s, %s, %s)\n",
    "'''\n",
    "\n",
    "# Select only the columns we need\n",
    "df_select = df[['sessionid', 'iteminsession', 'artist', 'song', 'length']]"
   ]
  },
  {
   "cell_type": "code",
   "execution_count": 8,
   "id": "4e572832",
   "metadata": {},
   "outputs": [
    {
     "name": "stdout",
     "output_type": "stream",
     "text": [
      "Row(artist='Faithless', song='Music Matters (Mark Knight Dub)', length=Decimal('495.3073'))\n"
     ]
    }
   ],
   "source": [
    "# Most efficent ways to iter over rows in DataFrame can be found here:\n",
    "# https://towardsdatascience.com/heres-the-most-efficient-way-to-iterate-through-your-pandas-dataframe-4dad88ac92ee\n",
    "\n",
    "# Here df.to_dict('records') method is used\n",
    "df_dict = df_select.to_dict('records')\n",
    "\n",
    "# Convert a list of dictionaries to a list of tuple values\n",
    "df_values = [tuple(record.values()) for record in df_dict]\n",
    "\n",
    "for record in df_values:\n",
    "    session.execute(insert_stmt, record)\n",
    "    \n",
    "# Validate the query\n",
    "result = session.execute(query)\n",
    "for row in result:\n",
    "    print(row)"
   ]
  },
  {
   "cell_type": "markdown",
   "id": "d663b5dc",
   "metadata": {},
   "source": [
    "- #### Query 2: Give me only the following: name of artist, song (sorted by itemInSession) and user (first and last name) for userid = 10, sessionid = 182"
   ]
  },
  {
   "cell_type": "code",
   "execution_count": 9,
   "id": "ae557ad7",
   "metadata": {},
   "outputs": [],
   "source": [
    "query = '''\n",
    "    SELECT \n",
    "        artist, \n",
    "        song, \n",
    "        firstname,\n",
    "        lastname\n",
    "    FROM user_activity\n",
    "    WHERE userid = 10\n",
    "    AND sessionid = 182\n",
    "'''\n",
    "# Create table sessions with primary keys for userid and sessionid with iteminsession as clustering key (to enable sorting)\n",
    "create_stmt = '''\n",
    "    CREATE TABLE IF NOT EXISTS user_activity\n",
    "    (userid int, sessionid int, iteminsession int, artist text, song text, firstname text, lastname text,\n",
    "        PRIMARY KEY ((userid, sessionid), iteminsession)\n",
    "        );\n",
    "'''\n",
    "session.execute(create_stmt)\n",
    "\n",
    "# Insert statement \n",
    "insert_stmt = '''\n",
    "    INSERT INTO user_activity (userid, sessionid, iteminsession, artist, song, firstname, lastname)\n",
    "    VALUES (%s, %s, %s, %s, %s, %s, %s)\n",
    "'''\n",
    "\n",
    "# Select only the columns we need\n",
    "df_select = df[['userid', 'sessionid', 'iteminsession', 'artist', 'song', 'firstname', 'lastname']]"
   ]
  },
  {
   "cell_type": "code",
   "execution_count": 10,
   "id": "15ec634c",
   "metadata": {},
   "outputs": [
    {
     "name": "stdout",
     "output_type": "stream",
     "text": [
      "Row(artist='Down To The Bone', song=\"Keep On Keepin' On\", firstname='Sylvie', lastname='Cruz')\n",
      "Row(artist='Three Drives', song='Greece 2000', firstname='Sylvie', lastname='Cruz')\n",
      "Row(artist='Sebastien Tellier', song='Kilometer', firstname='Sylvie', lastname='Cruz')\n",
      "Row(artist='Lonnie Gordon', song='Catch You Baby (Steve Pitron & Max Sanna Radio Edit)', firstname='Sylvie', lastname='Cruz')\n"
     ]
    }
   ],
   "source": [
    "# Most efficent ways to iter over rows in DataFrame can be found here:\n",
    "# https://towardsdatascience.com/heres-the-most-efficient-way-to-iterate-through-your-pandas-dataframe-4dad88ac92ee\n",
    "\n",
    "# Here df.to_dict('records') method is used\n",
    "df_dict = df_select.to_dict('records')\n",
    "\n",
    "# Convert a list of dictionaries to a list of tuple values\n",
    "df_values = [tuple(record.values()) for record in df_dict]\n",
    "    \n",
    "for record in df_values:\n",
    "    session.execute(insert_stmt, record)\n",
    "    \n",
    "# Validate the query\n",
    "result = session.execute(query)\n",
    "for row in result:\n",
    "    print(row)"
   ]
  },
  {
   "cell_type": "markdown",
   "id": "58d77219",
   "metadata": {},
   "source": [
    "- #### Query 3: Give me every user name (first and last) in my music app history who listened to the song 'All Hands Against His Own'"
   ]
  },
  {
   "cell_type": "code",
   "execution_count": 11,
   "id": "27c85a3a",
   "metadata": {
    "collapsed": true
   },
   "outputs": [
    {
     "data": {
      "text/html": [
       "<div>\n",
       "<style scoped>\n",
       "    .dataframe tbody tr th:only-of-type {\n",
       "        vertical-align: middle;\n",
       "    }\n",
       "\n",
       "    .dataframe tbody tr th {\n",
       "        vertical-align: top;\n",
       "    }\n",
       "\n",
       "    .dataframe thead th {\n",
       "        text-align: right;\n",
       "    }\n",
       "</style>\n",
       "<table border=\"1\" class=\"dataframe\">\n",
       "  <thead>\n",
       "    <tr style=\"text-align: right;\">\n",
       "      <th></th>\n",
       "      <th>song</th>\n",
       "      <th>userid</th>\n",
       "      <th>firstname</th>\n",
       "      <th>lastname</th>\n",
       "    </tr>\n",
       "  </thead>\n",
       "  <tbody>\n",
       "    <tr>\n",
       "      <th>0</th>\n",
       "      <td>Sometimes</td>\n",
       "      <td>97</td>\n",
       "      <td>Kate</td>\n",
       "      <td>Harrell</td>\n",
       "    </tr>\n",
       "    <tr>\n",
       "      <th>1</th>\n",
       "      <td>My Doorbell (Album Version)</td>\n",
       "      <td>97</td>\n",
       "      <td>Kate</td>\n",
       "      <td>Harrell</td>\n",
       "    </tr>\n",
       "    <tr>\n",
       "      <th>2</th>\n",
       "      <td>Panales de Algodon</td>\n",
       "      <td>97</td>\n",
       "      <td>Kate</td>\n",
       "      <td>Harrell</td>\n",
       "    </tr>\n",
       "    <tr>\n",
       "      <th>3</th>\n",
       "      <td>Restless</td>\n",
       "      <td>97</td>\n",
       "      <td>Kate</td>\n",
       "      <td>Harrell</td>\n",
       "    </tr>\n",
       "    <tr>\n",
       "      <th>4</th>\n",
       "      <td>Begging For Mercy</td>\n",
       "      <td>97</td>\n",
       "      <td>Kate</td>\n",
       "      <td>Harrell</td>\n",
       "    </tr>\n",
       "  </tbody>\n",
       "</table>\n",
       "</div>"
      ],
      "text/plain": [
       "                          song  userid firstname lastname\n",
       "0                    Sometimes      97      Kate  Harrell\n",
       "1  My Doorbell (Album Version)      97      Kate  Harrell\n",
       "2           Panales de Algodon      97      Kate  Harrell\n",
       "3                     Restless      97      Kate  Harrell\n",
       "4            Begging For Mercy      97      Kate  Harrell"
      ]
     },
     "execution_count": 11,
     "metadata": {},
     "output_type": "execute_result"
    }
   ],
   "source": [
    "query = '''\n",
    "    SELECT \n",
    "        song,\n",
    "        userid,\n",
    "        firstname,\n",
    "        lastname\n",
    "    FROM songs\n",
    "    WHERE song = 'All Hands Against His Own'\n",
    "'''\n",
    "# Create table sessions with primary keys for song and userid. Since we are extracting firstname and lastname of a user\n",
    "# the best way is to partition by userid only.\n",
    "\n",
    "# Even though song and userid don't make unique key, it doesn't matter for the purpose of our query as long as\n",
    "# their first and last name won't be updated. In that case names will be overwritten\n",
    "create_stmt = '''\n",
    "    CREATE TABLE IF NOT EXISTS songs\n",
    "    (song text, userid int, firstname text, lastname text,\n",
    "        PRIMARY KEY (song, userid)\n",
    "        );\n",
    "'''\n",
    "session.execute(create_stmt)\n",
    "\n",
    "# Insert statement \n",
    "insert_stmt = '''\n",
    "    INSERT INTO songs (song, userid, firstname, lastname)\n",
    "    VALUES (%s, %s, %s, %s)\n",
    "'''\n",
    "\n",
    "# Select only the columns we need\n",
    "df_select = df[['song', 'userid', 'firstname', 'lastname']]"
   ]
  },
  {
   "cell_type": "code",
   "execution_count": 12,
   "id": "b2453d72",
   "metadata": {},
   "outputs": [
    {
     "name": "stdout",
     "output_type": "stream",
     "text": [
      "Row(song='All Hands Against His Own', userid=29, firstname='Jacqueline', lastname='Lynch')\n",
      "Row(song='All Hands Against His Own', userid=80, firstname='Tegan', lastname='Levine')\n",
      "Row(song='All Hands Against His Own', userid=95, firstname='Sara', lastname='Johnson')\n"
     ]
    }
   ],
   "source": [
    "# Most efficent ways to iter over rows in DataFrame can be found here:\n",
    "# https://towardsdatascience.com/heres-the-most-efficient-way-to-iterate-through-your-pandas-dataframe-4dad88ac92ee\n",
    "\n",
    "# Here df.to_dict('records') method is used\n",
    "df_dict = df_select.to_dict('records')\n",
    "\n",
    "# Convert a list of dictionaries to a list of tuple values\n",
    "df_values = [tuple(record.values()) for record in df_dict]\n",
    "    \n",
    "for record in df_values:\n",
    "    session.execute(insert_stmt, record)\n",
    "    \n",
    "# Validate the query\n",
    "result = session.execute(query)\n",
    "for row in result:\n",
    "    print(row)"
   ]
  },
  {
   "cell_type": "markdown",
   "id": "2fe67427",
   "metadata": {},
   "source": [
    "### Drop the tables and close the connection"
   ]
  },
  {
   "cell_type": "code",
   "execution_count": 13,
   "id": "b1a3dc10",
   "metadata": {},
   "outputs": [],
   "source": [
    "session.execute('drop table sessions')\n",
    "session.execute('drop table user_activity')\n",
    "session.execute('drop table songs')\n",
    "session.shutdown()\n",
    "cluster.shutdown()"
   ]
  }
 ],
 "metadata": {
  "kernelspec": {
   "display_name": "Python [conda env:root] *",
   "language": "python",
   "name": "conda-root-py"
  },
  "language_info": {
   "codemirror_mode": {
    "name": "ipython",
    "version": 3
   },
   "file_extension": ".py",
   "mimetype": "text/x-python",
   "name": "python",
   "nbconvert_exporter": "python",
   "pygments_lexer": "ipython3",
   "version": "3.10.9"
  }
 },
 "nbformat": 4,
 "nbformat_minor": 5
}
